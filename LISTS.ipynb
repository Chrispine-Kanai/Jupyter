{
 "cells": [
  {
   "cell_type": "markdown",
   "metadata": {},
   "source": [
    "# List Methods \n",
    "| Method | Description |\n",
    "| --- | --- |\n",
    "| append() | Adds an element at the end of the list |\n",
    "| clear() | Removes all the elements from the list |\n",
    "| copy() | Returns a copy of the list |\n",
    "| count() | Returns the number of elements with the specified value |\n",
    "| extend() | Add the elements of a list (or any iterable), to the end of the current list |\n",
    "| index() | Returns the index of the first element with the specified value |\n",
    "| insert() | Adds an element at the specified position |\n",
    "| pop() | Removes the element at the specified position |\n",
    "| remove() | Removes the item with the specified value |\n",
    "| reverse() | Reverses the order of the list |\n",
    "| sort() | Sorts the list |"
   ]
  },
  {
   "cell_type": "code",
   "execution_count": 1,
   "metadata": {},
   "outputs": [
    {
     "data": {
      "text/plain": [
       "['Mangoes', 'Apples', 'Oranges', 'Pineapples']"
      ]
     },
     "execution_count": 1,
     "metadata": {},
     "output_type": "execute_result"
    }
   ],
   "source": [
    "# Change fruit at index 0\n",
    "x = [\"Banana\", \"Apples\", \"Oranges\", \"Pineapples\"]\n",
    "x[0] =  \"Mangoes\"\n",
    "x"
   ]
  },
  {
   "cell_type": "code",
   "execution_count": 2,
   "metadata": {},
   "outputs": [
    {
     "name": "stdout",
     "output_type": "stream",
     "text": [
      "Banana\n",
      "Apples\n",
      "Oranges\n",
      "Pineapples\n"
     ]
    }
   ],
   "source": [
    "# Print all elements in the list\n",
    "x = [\"Banana\", \"Apples\", \"Oranges\", \"Pineapples\"]\n",
    "for fruit in x:\n",
    "    print(fruit)"
   ]
  },
  {
   "cell_type": "code",
   "execution_count": 5,
   "metadata": {},
   "outputs": [
    {
     "name": "stdout",
     "output_type": "stream",
     "text": [
      "Apples\n"
     ]
    }
   ],
   "source": [
    "# Check if element is in list\n",
    "x = [\"Banana\", \"Apples\", \"Oranges\", \"Pineapples\"]\n",
    "if \"Apples\" in x:\n",
    "    print(\"Apples\")"
   ]
  },
  {
   "cell_type": "code",
   "execution_count": 6,
   "metadata": {},
   "outputs": [
    {
     "name": "stdout",
     "output_type": "stream",
     "text": [
      "4\n"
     ]
    }
   ],
   "source": [
    "# Length of list\n",
    "print(len(x))"
   ]
  },
  {
   "cell_type": "markdown",
   "metadata": {},
   "source": [
    "# Add elements "
   ]
  },
  {
   "cell_type": "code",
   "execution_count": 7,
   "metadata": {},
   "outputs": [
    {
     "name": "stdout",
     "output_type": "stream",
     "text": [
      "['Banana', 'Apples', 'Oranges', 'Pineapples', 'Mangoes', 'Banana']\n"
     ]
    }
   ],
   "source": [
    "# add elements at the end of the list\n",
    "x.append(\"Mangoes\")\n",
    "x.append(\"Banana\")\n",
    "print(x)"
   ]
  },
  {
   "cell_type": "code",
   "execution_count": 8,
   "metadata": {},
   "outputs": [
    {
     "name": "stdout",
     "output_type": "stream",
     "text": [
      "['Grapes', 'Banana', 'Apples', 'Oranges', 'Pineapples', 'Mangoes', 'Banana']\n"
     ]
    }
   ],
   "source": [
    "# add elemnts at a specific index\n",
    "x.insert(0, \"Grapes\")\n",
    "print(x)"
   ]
  },
  {
   "cell_type": "markdown",
   "metadata": {},
   "source": [
    "# Remove Item"
   ]
  },
  {
   "cell_type": "code",
   "execution_count": 11,
   "metadata": {},
   "outputs": [
    {
     "name": "stdout",
     "output_type": "stream",
     "text": [
      "['Grapes', 'Apples', 'Oranges', 'Pineapples', 'Mangoes', 'Banana']\n"
     ]
    }
   ],
   "source": [
    "# Remove specified item\n",
    "x = ['Grapes', 'Banana', 'Apples', 'Oranges', 'Pineapples', 'Mangoes', 'Banana']\n",
    "x.remove(\"Banana\")\n",
    "print(x)"
   ]
  },
  {
   "cell_type": "code",
   "execution_count": 12,
   "metadata": {},
   "outputs": [
    {
     "data": {
      "text/plain": [
       "'Banana'"
      ]
     },
     "execution_count": 12,
     "metadata": {},
     "output_type": "execute_result"
    }
   ],
   "source": [
    "# The pop() method removes the specified index, (or the last item if index is not specified):\n",
    "x = ['Grapes', 'Banana', 'Apples', 'Oranges', 'Pineapples', 'Mangoes', 'Banana']\n",
    "x.pop()"
   ]
  },
  {
   "cell_type": "code",
   "execution_count": 20,
   "metadata": {},
   "outputs": [
    {
     "name": "stdout",
     "output_type": "stream",
     "text": [
      "['Banana', 'Apples', 'Oranges', 'Pineapples', 'Mangoes', 'Banana']\n"
     ]
    }
   ],
   "source": [
    "# del removes the specified index\n",
    "x = ['Grapes', 'Banana', 'Apples', 'Oranges', 'Pineapples', 'Mangoes', 'Banana']\n",
    "\n",
    "del x[0]\n",
    "print(x)"
   ]
  },
  {
   "cell_type": "code",
   "execution_count": 24,
   "metadata": {},
   "outputs": [
    {
     "ename": "NameError",
     "evalue": "name 'x' is not defined",
     "output_type": "error",
     "traceback": [
      "\u001b[0;31m---------------------------------------------------------------------------\u001b[0m",
      "\u001b[0;31mNameError\u001b[0m                                 Traceback (most recent call last)",
      "\u001b[0;32m<ipython-input-24-326f2dac06a0>\u001b[0m in \u001b[0;36m<module>\u001b[0;34m\u001b[0m\n\u001b[1;32m      2\u001b[0m \u001b[0;34m\u001b[0m\u001b[0m\n\u001b[1;32m      3\u001b[0m \u001b[0;32mdel\u001b[0m \u001b[0mx\u001b[0m\u001b[0;34m\u001b[0m\u001b[0;34m\u001b[0m\u001b[0m\n\u001b[0;32m----> 4\u001b[0;31m \u001b[0mprint\u001b[0m\u001b[0;34m(\u001b[0m\u001b[0mx\u001b[0m\u001b[0;34m)\u001b[0m\u001b[0;34m\u001b[0m\u001b[0;34m\u001b[0m\u001b[0m\n\u001b[0m",
      "\u001b[0;31mNameError\u001b[0m: name 'x' is not defined"
     ]
    }
   ],
   "source": [
    "x = ['Grapes', 'Banana', 'Apples', 'Oranges', 'Pineapples', 'Mangoes', 'Banana']\n",
    "\n",
    "del x\n",
    "print(x)"
   ]
  },
  {
   "cell_type": "code",
   "execution_count": 25,
   "metadata": {},
   "outputs": [
    {
     "name": "stdout",
     "output_type": "stream",
     "text": [
      "[]\n"
     ]
    }
   ],
   "source": [
    "# clear removes all elemnts from the list\n",
    "x = ['Grapes', 'Banana', 'Apples', 'Oranges', 'Pineapples', 'Mangoes', 'Banana']\n",
    "\n",
    "x.clear()\n",
    "print(x)"
   ]
  },
  {
   "cell_type": "markdown",
   "metadata": {},
   "source": [
    "# Copy a list"
   ]
  },
  {
   "cell_type": "code",
   "execution_count": 26,
   "metadata": {},
   "outputs": [
    {
     "name": "stdout",
     "output_type": "stream",
     "text": [
      "['Grapes', 'Banana', 'Apples', 'Oranges', 'Pineapples', 'Mangoes', 'Banana']\n"
     ]
    }
   ],
   "source": [
    "x = ['Grapes', 'Banana', 'Apples', 'Oranges', 'Pineapples', 'Mangoes', 'Banana']\n",
    "y = x.copy()\n",
    "print(y)"
   ]
  },
  {
   "cell_type": "code",
   "execution_count": 27,
   "metadata": {},
   "outputs": [
    {
     "name": "stdout",
     "output_type": "stream",
     "text": [
      "['Grapes', 'Banana', 'Apples', 'Oranges', 'Pineapples', 'Mangoes', 'Banana']\n"
     ]
    }
   ],
   "source": [
    "x = ['Grapes', 'Banana', 'Apples', 'Oranges', 'Pineapples', 'Mangoes', 'Banana']\n",
    "y = x\n",
    "print(y)"
   ]
  },
  {
   "cell_type": "code",
   "execution_count": 28,
   "metadata": {},
   "outputs": [
    {
     "name": "stdout",
     "output_type": "stream",
     "text": [
      "['Grapes', 'Banana', 'Apples', 'Oranges', 'Pineapples', 'Mangoes', 'Banana']\n"
     ]
    }
   ],
   "source": [
    "x = ['Grapes', 'Banana', 'Apples', 'Oranges', 'Pineapples', 'Mangoes', 'Banana']\n",
    "y = list(x)\n",
    "print(y)"
   ]
  },
  {
   "cell_type": "markdown",
   "metadata": {},
   "source": [
    "# Join two lists"
   ]
  },
  {
   "cell_type": "code",
   "execution_count": 29,
   "metadata": {},
   "outputs": [
    {
     "name": "stdout",
     "output_type": "stream",
     "text": [
      "['Grapes', 'Banana', 'Apples', 'Oranges', 'Pineapples', 'Mangoes', 'Banana']\n"
     ]
    }
   ],
   "source": [
    "# Add Add the elements of a list (or any iterable), to the end of the current list\n",
    "x = ['Grapes', 'Banana', 'Apples', 'Oranges']\n",
    "y = ['Pineapples', 'Mangoes', 'Banana']\n",
    "\n",
    "x.extend(y)\n",
    "print(x)"
   ]
  },
  {
   "cell_type": "code",
   "execution_count": 30,
   "metadata": {},
   "outputs": [
    {
     "name": "stdout",
     "output_type": "stream",
     "text": [
      "['Grapes', 'Banana', 'Apples', 'Oranges', 'Pineapples', 'Mangoes', 'Banana']\n"
     ]
    }
   ],
   "source": [
    "x = ['Grapes', 'Banana', 'Apples', 'Oranges']\n",
    "y = ['Pineapples', 'Mangoes', 'Banana']\n",
    "\n",
    "z = x + y\n",
    "print(z)"
   ]
  },
  {
   "cell_type": "code",
   "execution_count": 31,
   "metadata": {},
   "outputs": [
    {
     "name": "stdout",
     "output_type": "stream",
     "text": [
      "['Grapes', 'Banana', 'Apples', 'Oranges', 'Pineapples', 'Mangoes', 'Banana']\n"
     ]
    }
   ],
   "source": [
    "x = ['Grapes', 'Banana', 'Apples', 'Oranges']\n",
    "y = ['Pineapples', 'Mangoes', 'Banana']\n",
    "\n",
    "for fruit in y:\n",
    "    x.append(fruit)\n",
    "\n",
    "print(x)"
   ]
  },
  {
   "cell_type": "markdown",
   "metadata": {},
   "source": [
    "# List Constructor"
   ]
  },
  {
   "cell_type": "code",
   "execution_count": 32,
   "metadata": {},
   "outputs": [
    {
     "name": "stdout",
     "output_type": "stream",
     "text": [
      "['apple', 'banana', 'cherry']\n"
     ]
    }
   ],
   "source": [
    "thislist = list((\"apple\", \"banana\", \"cherry\")) # note the double round-brackets\n",
    "print(thislist)"
   ]
  },
  {
   "cell_type": "markdown",
   "metadata": {},
   "source": [
    "# Other"
   ]
  },
  {
   "cell_type": "code",
   "execution_count": 33,
   "metadata": {},
   "outputs": [
    {
     "data": {
      "text/plain": [
       "2"
      ]
     },
     "execution_count": 33,
     "metadata": {},
     "output_type": "execute_result"
    }
   ],
   "source": [
    "# Count Returns the number of elements with the specified value\n",
    "x = ['Grapes', 'Banana', 'Apples', 'Oranges', 'Pineapples', 'Mangoes', 'Banana']\n",
    "x.count(\"Banana\")"
   ]
  },
  {
   "cell_type": "code",
   "execution_count": 34,
   "metadata": {},
   "outputs": [
    {
     "data": {
      "text/plain": [
       "1"
      ]
     },
     "execution_count": 34,
     "metadata": {},
     "output_type": "execute_result"
    }
   ],
   "source": [
    "# Returns the index of the first element with the specified value\n",
    "x = ['Grapes', 'Banana', 'Apples', 'Oranges', 'Pineapples', 'Mangoes', 'Banana']\n",
    "x.index(\"Banana\")"
   ]
  },
  {
   "cell_type": "code",
   "execution_count": 37,
   "metadata": {},
   "outputs": [
    {
     "name": "stdout",
     "output_type": "stream",
     "text": [
      "['Banana', 'Mangoes', 'Pineapples', 'Oranges', 'Apples', 'Banana', 'Grapes']\n"
     ]
    }
   ],
   "source": [
    "# Reverses the order of the list\n",
    "x = ['Grapes', 'Banana', 'Apples', 'Oranges', 'Pineapples', 'Mangoes', 'Banana']\n",
    "x.reverse()\n",
    "print(x)"
   ]
  },
  {
   "cell_type": "code",
   "execution_count": 38,
   "metadata": {},
   "outputs": [
    {
     "name": "stdout",
     "output_type": "stream",
     "text": [
      "['Apples', 'Banana', 'Banana', 'Grapes', 'Mangoes', 'Oranges', 'Pineapples']\n"
     ]
    }
   ],
   "source": [
    "# Sort the list alphabetically\n",
    "x = ['Grapes', 'Banana', 'Apples', 'Oranges', 'Pineapples', 'Mangoes', 'Banana']\n",
    "x.sort()\n",
    "print(x)"
   ]
  },
  {
   "cell_type": "code",
   "execution_count": null,
   "metadata": {},
   "outputs": [],
   "source": []
  }
 ],
 "metadata": {
  "kernelspec": {
   "display_name": "Python 3",
   "language": "python",
   "name": "python3"
  },
  "language_info": {
   "codemirror_mode": {
    "name": "ipython",
    "version": 3
   },
   "file_extension": ".py",
   "mimetype": "text/x-python",
   "name": "python",
   "nbconvert_exporter": "python",
   "pygments_lexer": "ipython3",
   "version": "3.7.4"
  }
 },
 "nbformat": 4,
 "nbformat_minor": 2
}
