{
 "cells": [
  {
   "cell_type": "markdown",
   "metadata": {},
   "source": [
    "# Decorators\n",
    "Decorators modify the behaviour of a function without permanently modifying it. It basically wraps another function and since both functions are callable it remains callable\n"
   ]
  },
  {
   "cell_type": "code",
   "execution_count": 1,
   "metadata": {},
   "outputs": [
    {
     "name": "stdout",
     "output_type": "stream",
     "text": [
      "Chrispine\n",
      "Kanai\n"
     ]
    }
   ],
   "source": [
    "def func(n):\n",
    "    def func1():\n",
    "        return \"Chrispine\"\n",
    "    def func2():\n",
    "        return \"Kanai\"\n",
    "    \n",
    "    if n == 1:\n",
    "        return func1()\n",
    "    else:\n",
    "        return func2() \n",
    "    \n",
    "    \n",
    "a = func(1)\n",
    "b = func(2)\n",
    "\n",
    "print(a)\n",
    "print(b)\n"
   ]
  },
  {
   "cell_type": "code",
   "execution_count": 2,
   "metadata": {},
   "outputs": [
    {
     "name": "stdout",
     "output_type": "stream",
     "text": [
      "Hello\n",
      "Chrispine\n",
      "Welcome to Kenya\n"
     ]
    }
   ],
   "source": [
    "def function1(function):\n",
    "    def wrapper():\n",
    "        print(\"Hello\")\n",
    "        function()\n",
    "        print(\"Welcome to Kenya\")\n",
    "    return wrapper\n",
    "\n",
    "def function2():\n",
    "    print(\"Chrispine\")\n",
    "\n",
    "function2 = function1(function2)\n",
    "\n",
    "function2()"
   ]
  },
  {
   "cell_type": "code",
   "execution_count": 3,
   "metadata": {},
   "outputs": [
    {
     "name": "stdout",
     "output_type": "stream",
     "text": [
      "Hello\n",
      "Chrispine\n",
      "Welcome to Kenya\n"
     ]
    }
   ],
   "source": [
    "def function1(function):\n",
    "    def wrapper():\n",
    "        print(\"Hello\")\n",
    "        function()\n",
    "        print(\"Welcome to Kenya\")\n",
    "    return wrapper\n",
    "\n",
    "@function1\n",
    "def function2():\n",
    "    print(\"Chrispine\")\n",
    "\n",
    "\n",
    "function2()"
   ]
  },
  {
   "cell_type": "code",
   "execution_count": 4,
   "metadata": {},
   "outputs": [
    {
     "name": "stdout",
     "output_type": "stream",
     "text": [
      "Hello\n",
      "Chrispine\n",
      "Welcome to Kenya\n"
     ]
    }
   ],
   "source": [
    "def function1(function):\n",
    "    def wrapper(*args, **kwargs):\n",
    "        print(\"Hello\")\n",
    "        function(*args, **kwargs)\n",
    "        print(\"Welcome to Kenya\")\n",
    "\n",
    "    return wrapper\n",
    "\n",
    "\n",
    "@function1\n",
    "def function2(name):\n",
    "    print(f\"{name}\")\n",
    "\n",
    "\n",
    "function2(\"Chrispine\")"
   ]
  },
  {
   "cell_type": "markdown",
   "metadata": {},
   "source": [
    "# Class Decorators"
   ]
  },
  {
   "cell_type": "code",
   "execution_count": 10,
   "metadata": {},
   "outputs": [
    {
     "name": "stdout",
     "output_type": "stream",
     "text": [
      "9\n",
      "81\n"
     ]
    }
   ],
   "source": [
    "class square:\n",
    "    def __init__(self,side):\n",
    "        self._side = side\n",
    "    @property\n",
    "    def side(self):\n",
    "        return self._side\n",
    "    @side.setter\n",
    "    def side(self,value):\n",
    "        if value >= 0:\n",
    "            self._side = value\n",
    "        else:\n",
    "            print(\"Value should be greater than 0\")\n",
    "    @property\n",
    "    def area(self):\n",
    "        return self._side ** 2\n",
    "    @classmethod\n",
    "    def unit_square(cls):\n",
    "        return cls(1)\n",
    "\n",
    "    \n",
    "s = square(9)\n",
    "print(s.side)\n",
    "print(s.area)\n",
    "\n",
    "    "
   ]
  },
  {
   "cell_type": "markdown",
   "metadata": {},
   "source": [
    "# Singleton Class"
   ]
  },
  {
   "cell_type": "code",
   "execution_count": 6,
   "metadata": {},
   "outputs": [
    {
     "name": "stdout",
     "output_type": "stream",
     "text": [
      "True\n"
     ]
    }
   ],
   "source": [
    "import functools\n",
    "\n",
    "\n",
    "def singleton(cls):\n",
    "    @functools.wraps(cls)\n",
    "    def wrapper(*args, **kwargs):\n",
    "        if not wrapper.instance:\n",
    "            wrapper.instance = cls(*args, **kwargs)\n",
    "        wrapper.instance = cls(*args, **kwargs)\n",
    "        return wrapper\n",
    "\n",
    "    wrapper.instance = None\n",
    "    return wrapper\n",
    "\n",
    "\n",
    "@singleton\n",
    "class One:\n",
    "    pass\n",
    "\n",
    "\n",
    "first = One()\n",
    "second = One()\n",
    "\n",
    "print(first is second)"
   ]
  },
  {
   "cell_type": "markdown",
   "metadata": {},
   "source": [
    "# Nested decorator"
   ]
  },
  {
   "cell_type": "code",
   "execution_count": 1,
   "metadata": {},
   "outputs": [
    {
     "name": "stdout",
     "output_type": "stream",
     "text": [
      "Python\n",
      "Python\n",
      "Python\n",
      "Python\n",
      "Python\n"
     ]
    }
   ],
   "source": [
    "import functools\n",
    "\n",
    "\n",
    "def repeat(num):\n",
    "    def decorator_repeat(func):\n",
    "        @functools.wraps(func)\n",
    "        def wrapper(*args, **kwargs):\n",
    "            for _ in range(num):\n",
    "                value = func(*args, **kwargs)\n",
    "            return value\n",
    "        return wrapper\n",
    "    return decorator_repeat\n",
    "\n",
    "\n",
    "@repeat(5)\n",
    "def function(name):\n",
    "    print(f\"{name}\")\n",
    "\n",
    "\n",
    "function(\"Python\")"
   ]
  },
  {
   "cell_type": "code",
   "execution_count": null,
   "metadata": {},
   "outputs": [],
   "source": []
  }
 ],
 "metadata": {
  "kernelspec": {
   "display_name": "Python 3",
   "language": "python",
   "name": "python3"
  },
  "language_info": {
   "codemirror_mode": {
    "name": "ipython",
    "version": 3
   },
   "file_extension": ".py",
   "mimetype": "text/x-python",
   "name": "python",
   "nbconvert_exporter": "python",
   "pygments_lexer": "ipython3",
   "version": "3.7.4"
  }
 },
 "nbformat": 4,
 "nbformat_minor": 2
}
