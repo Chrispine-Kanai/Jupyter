{
 "cells": [
  {
   "cell_type": "markdown",
   "metadata": {},
   "source": [
    "# While Loop"
   ]
  },
  {
   "cell_type": "code",
   "execution_count": 1,
   "metadata": {},
   "outputs": [
    {
     "name": "stdout",
     "output_type": "stream",
     "text": [
      "Number 0\n",
      "Number 1\n",
      "Number 2\n",
      "Number 3\n",
      "Number 4\n",
      "Number 5\n",
      "Number 6\n",
      "Number 7\n",
      "Number 8\n",
      "Thank you!\n"
     ]
    }
   ],
   "source": [
    "count = 0\n",
    "while count < 9:\n",
    "    print(\"Number\", count)\n",
    "    count+=1\n",
    "    \n",
    "print(\"Thank you!\")"
   ]
  },
  {
   "cell_type": "code",
   "execution_count": 2,
   "metadata": {},
   "outputs": [],
   "source": [
    "import random"
   ]
  },
  {
   "cell_type": "code",
   "execution_count": 6,
   "metadata": {},
   "outputs": [
    {
     "name": "stdout",
     "output_type": "stream",
     "text": [
      "Input a number: 12\n",
      "Your number is too small.\n",
      "Input a number: 76\n",
      "Your number is too large.\n",
      "Input a number: 13\n",
      "Your number is too small.\n",
      "Input a number: 19\n",
      "Your number is too large.\n",
      "Input a number: 16\n",
      "Congrats. You made it.\n"
     ]
    }
   ],
   "source": [
    "x = random.randint(1,21)\n",
    "\n",
    "guess = 0\n",
    "\n",
    "while guess != x:\n",
    "    guess = int(input(\"Input a number: \"))\n",
    "    \n",
    "    if(guess > 0):\n",
    "        if(guess > x):\n",
    "            print(\"Your number is too large.\")\n",
    "        elif(guess < x):\n",
    "            print(\"Your number is too small.\")\n",
    "    else:\n",
    "        print(\"Why give up too soon!\")\n",
    "else:\n",
    "    print(\"Congrats. You made it.\")\n",
    "            "
   ]
  },
  {
   "cell_type": "markdown",
   "metadata": {},
   "source": [
    "# For Loop"
   ]
  },
  {
   "cell_type": "code",
   "execution_count": 8,
   "metadata": {},
   "outputs": [
    {
     "name": "stdout",
     "output_type": "stream",
     "text": [
      "{'School': 'Strathmore', 'Home': 'Kiserian', 'Work': 'Google'}\n"
     ]
    }
   ],
   "source": [
    "fruits = {\"School\": \"Strathmore\", \"Home\": \"Kiserian\", \"Work\": \"Google\"}\n",
    "\n",
    "print(fruits)"
   ]
  },
  {
   "cell_type": "code",
   "execution_count": 9,
   "metadata": {},
   "outputs": [
    {
     "name": "stdout",
     "output_type": "stream",
     "text": [
      "School Strathmore\n",
      "Home Kiserian\n",
      "Work Google\n"
     ]
    }
   ],
   "source": [
    "for key, value in fruits.items():\n",
    "    print(key, value)"
   ]
  },
  {
   "cell_type": "code",
   "execution_count": 12,
   "metadata": {},
   "outputs": [
    {
     "name": "stdout",
     "output_type": "stream",
     "text": [
      "Input a number 3\n",
      "The factorial is  6\n"
     ]
    }
   ],
   "source": [
    "num = int(input(\"Input a number \"))\n",
    "\n",
    "factorial = 1\n",
    "\n",
    "if num < 0:\n",
    "    print(\"Number must be greater than 1\")\n",
    "if num == 0:\n",
    "    print(\"Factorial = 1\")\n",
    "else:\n",
    "    for i in range(1, num + 1):\n",
    "        factorial = factorial * i\n",
    "\n",
    "print(\"The factorial is \", factorial)"
   ]
  },
  {
   "cell_type": "markdown",
   "metadata": {},
   "source": [
    "# Nested loops"
   ]
  },
  {
   "cell_type": "code",
   "execution_count": 22,
   "metadata": {},
   "outputs": [
    {
     "name": "stdout",
     "output_type": "stream",
     "text": [
      "Welcome to Kanai Bank of Kenya(KBK).\n",
      "Enter your pin 1234\n",
      "To check balance choose 1\n",
      "To make a withdrawal choose 2\n",
      "To pay in choose 3\n",
      "To return card choose 4\n",
      "Enter your option 4\n",
      "You can now take your card. Thank you!\n"
     ]
    }
   ],
   "source": [
    "print(\"Welcome to Kanai Bank of Kenya(KBK).\")\n",
    "\n",
    "chances = 3\n",
    "\n",
    "balance = 15000\n",
    "\n",
    "while(chances != 0):\n",
    "    pin = int(input(\"Enter your pin \"))\n",
    "    \n",
    "    if(pin != 1234):\n",
    "        chances-=1\n",
    "        print(\"Incorrect pin.\", chances, \" remaining\" )\n",
    "    else:\n",
    "        print(\"To check balance choose 1\")\n",
    "        print(\"To make a withdrawal choose 2\")\n",
    "        print(\"To pay in choose 3\")\n",
    "        print(\"To return card choose 4\")\n",
    "        \n",
    "        option = int(input(\"Enter your option \"))\n",
    "        \n",
    "        if(option == 1):\n",
    "            print(\"Your balance is \", balance)\n",
    "            break\n",
    "        elif option == 2:\n",
    "            withdraw = int(input(\"How much do you want to withdraw: \"))\n",
    "            if withdraw > balance:\n",
    "                print(\"Sorry you have insufficient funds.\")\n",
    "                break\n",
    "            else:\n",
    "                print(\"You have withdrawn \", withdraw,\". Your balance is \", balance  -  withdraw)\n",
    "                break\n",
    "        elif option == 3:\n",
    "            deposit = int(input(\"How much do you want to deposit? \"))\n",
    "            print(\"You have deposited\", deposit, \"Your balance is now\", balance + deposit)\n",
    "            break\n",
    "        elif option == 4:\n",
    "            print(\"You can now take your card. Thank you!\")\n",
    "            break\n",
    "        else:\n",
    "            print(\"Invalid option. Try again\")\n",
    "else:\n",
    "    print(\"Your card has been blocked.\")"
   ]
  },
  {
   "cell_type": "code",
   "execution_count": null,
   "metadata": {},
   "outputs": [],
   "source": []
  },
  {
   "cell_type": "code",
   "execution_count": null,
   "metadata": {},
   "outputs": [],
   "source": []
  },
  {
   "cell_type": "code",
   "execution_count": null,
   "metadata": {},
   "outputs": [],
   "source": []
  }
 ],
 "metadata": {
  "kernelspec": {
   "display_name": "Python 3",
   "language": "python",
   "name": "python3"
  },
  "language_info": {
   "codemirror_mode": {
    "name": "ipython",
    "version": 3
   },
   "file_extension": ".py",
   "mimetype": "text/x-python",
   "name": "python",
   "nbconvert_exporter": "python",
   "pygments_lexer": "ipython3",
   "version": "3.7.4"
  }
 },
 "nbformat": 4,
 "nbformat_minor": 2
}
