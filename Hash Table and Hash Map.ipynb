{
 "cells": [
  {
   "cell_type": "markdown",
   "metadata": {},
   "source": [
    "A Hash Table or Hash Map is atype of data structure that \n",
    "maps keys to its value pairs"
   ]
  },
  {
   "cell_type": "code",
   "execution_count": 2,
   "metadata": {},
   "outputs": [
    {
     "name": "stdout",
     "output_type": "stream",
     "text": [
      "{'Name': 'Moses', 'Age': '15', 'Class': '5'}\n"
     ]
    },
    {
     "data": {
      "text/plain": [
       "dict"
      ]
     },
     "execution_count": 2,
     "metadata": {},
     "output_type": "execute_result"
    }
   ],
   "source": [
    "mydict = {\"Name\":\"Moses\", \"Age\":\"15\",\"Class\":\"5\"}\n",
    "print(mydict)\n",
    "type(mydict)"
   ]
  },
  {
   "cell_type": "code",
   "execution_count": 1,
   "metadata": {},
   "outputs": [
    {
     "data": {
      "text/plain": [
       "{'child1': {'Name': 'Moses', 'Age': '9', 'Class': '5'},\n",
       " 'child2': {'Name': 'Dave', 'Age': '8', 'Class': '3'},\n",
       " 'child3': {'Name': 'Kim', 'Age': '10', 'Class': '5'},\n",
       " 'child4': {'Name': 'Ken', 'Age': '15', 'Class': '8'},\n",
       " 'child5': {'Name': 'Winnie', 'Age': '12', 'Class': '7'}}"
      ]
     },
     "execution_count": 1,
     "metadata": {},
     "output_type": "execute_result"
    }
   ],
   "source": [
    "child1 = {\"Name\":\"Moses\", \"Age\":\"9\",\"Class\":\"5\"}\n",
    "child2 = {\"Name\":\"Dave\", \"Age\":\"8\",\"Class\":\"3\"}\n",
    "child3 = {\"Name\":\"Kim\", \"Age\":\"10\",\"Class\":\"5\"}\n",
    "child4 = {\"Name\":\"Ken\", \"Age\":\"15\",\"Class\":\"8\"}\n",
    "child5 = {\"Name\":\"Winnie\", \"Age\":\"12\",\"Class\":\"7\"}\n",
    "\n",
    "children = {\n",
    "    \"child1\": child1,\n",
    "    \"child2\": child2,\n",
    "    \"child3\": child3,\n",
    "    \"child4\": child4,\n",
    "    \"child5\": child5\n",
    "}\n",
    "\n",
    "children"
   ]
  },
  {
   "cell_type": "code",
   "execution_count": null,
   "metadata": {},
   "outputs": [],
   "source": []
  },
  {
   "cell_type": "code",
   "execution_count": null,
   "metadata": {},
   "outputs": [],
   "source": []
  },
  {
   "cell_type": "code",
   "execution_count": null,
   "metadata": {},
   "outputs": [],
   "source": []
  }
 ],
 "metadata": {
  "kernelspec": {
   "display_name": "Python 3",
   "language": "python",
   "name": "python3"
  },
  "language_info": {
   "codemirror_mode": {
    "name": "ipython",
    "version": 3
   },
   "file_extension": ".py",
   "mimetype": "text/x-python",
   "name": "python",
   "nbconvert_exporter": "python",
   "pygments_lexer": "ipython3",
   "version": "3.7.4"
  }
 },
 "nbformat": 4,
 "nbformat_minor": 2
}
