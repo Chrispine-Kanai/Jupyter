{
 "cells": [
  {
   "cell_type": "markdown",
   "metadata": {},
   "source": [
    "| Method | Description|\n",
    "| --- | --- |\n",
    "| add() | Adds an element to the set |\n",
    "| clear() | Removes all the elements from the set |\n",
    "| copy() | Returns a copy of the set |\n",
    "| difference() | Returns a set containing the difference between two or more sets |\n",
    "| difference_update() | Removes the items in this set that are also included in another, specified set |\n",
    "| discard() | Remove the specified item |\n",
    "intersection() | Returns a set, that is the intersection of two other sets\n",
    "| intersection_update() | Removes the items in this set that are not present in other, specified set(s) |\n",
    "|isdisjoint() | Returns whether two sets have a intersection or not |\n",
    "| issubset() | Returns whether another set contains this set or not |\n",
    "| issuperset() | Returns whether this set contains another set or not |\n",
    "| pop() | Removes an element from the set |\n",
    "| remove() | Removes the specified element |\n",
    "| symmetric_difference() | Returns a set with the symmetric differences of two sets |\n",
    "| symmetric_difference_update() | inserts the symmetric differences from this set and another |\n",
    "| union() | Return a set containing the union of sets |\n",
    "| update() | Update the set with the union of this set and others |"
   ]
  },
  {
   "cell_type": "markdown",
   "metadata": {},
   "source": [
    "Note: Sets are unordered, so you cannot be sure in which order the items will appear.\n",
    "A set cannot have duplicate items"
   ]
  },
  {
   "cell_type": "code",
   "execution_count": 3,
   "metadata": {},
   "outputs": [
    {
     "name": "stdout",
     "output_type": "stream",
     "text": [
      "<class 'set'>\n",
      "{'Suzuki', 'Volkswagen', 'Range Rover', 'Mazda'}\n"
     ]
    }
   ],
   "source": [
    "cars = {\"Suzuki\", \"Mazda\", \"Range Rover\", \"Volkswagen\"}\n",
    "print(type(cars))\n",
    "print(cars)"
   ]
  },
  {
   "cell_type": "markdown",
   "metadata": {},
   "source": [
    "# Accessing Items\n",
    "You cannot access items in a set by referring to an index, since sets are unordered the items has no index.<br>\n",
    "\n",
    "But you can loop through the set items using a for loop, or ask if a specified value is present in a set, \n",
    "by using the in keyword. <br>\n"
   ]
  },
  {
   "cell_type": "code",
   "execution_count": 4,
   "metadata": {},
   "outputs": [
    {
     "ename": "TypeError",
     "evalue": "'set' object is not subscriptable",
     "output_type": "error",
     "traceback": [
      "\u001b[0;31m---------------------------------------------------------------------------\u001b[0m",
      "\u001b[0;31mTypeError\u001b[0m                                 Traceback (most recent call last)",
      "\u001b[0;32m<ipython-input-4-71a3ad9ce068>\u001b[0m in \u001b[0;36m<module>\u001b[0;34m\u001b[0m\n\u001b[0;32m----> 1\u001b[0;31m \u001b[0mcars\u001b[0m\u001b[0;34m[\u001b[0m\u001b[0;36m0\u001b[0m\u001b[0;34m]\u001b[0m\u001b[0;34m\u001b[0m\u001b[0;34m\u001b[0m\u001b[0m\n\u001b[0m",
      "\u001b[0;31mTypeError\u001b[0m: 'set' object is not subscriptable"
     ]
    }
   ],
   "source": [
    "cars[0]"
   ]
  },
  {
   "cell_type": "code",
   "execution_count": 6,
   "metadata": {},
   "outputs": [
    {
     "name": "stdout",
     "output_type": "stream",
     "text": [
      "Suzuki\n",
      "Volkswagen\n",
      "Range Rover\n",
      "Mazda\n"
     ]
    }
   ],
   "source": [
    "for car in cars:\n",
    "    print(car)"
   ]
  },
  {
   "cell_type": "code",
   "execution_count": 7,
   "metadata": {},
   "outputs": [
    {
     "name": "stdout",
     "output_type": "stream",
     "text": [
      "True\n"
     ]
    }
   ],
   "source": [
    "print(\"Suzuki\" in cars)"
   ]
  },
  {
   "cell_type": "markdown",
   "metadata": {},
   "source": [
    "# Changing Items\n",
    "Once a set is created it cannot be changed. But new items can be added "
   ]
  },
  {
   "cell_type": "markdown",
   "metadata": {},
   "source": [
    "# Adding items"
   ]
  },
  {
   "cell_type": "code",
   "execution_count": 9,
   "metadata": {},
   "outputs": [
    {
     "name": "stdout",
     "output_type": "stream",
     "text": [
      "{'Mazda', 'Volkswagen', 'Mobus', 'Suzuki', 'Range Rover'}\n"
     ]
    }
   ],
   "source": [
    "# add(), Can only add one item\n",
    "cars.add(\"Mobus\")\n",
    "print(cars)"
   ]
  },
  {
   "cell_type": "code",
   "execution_count": 13,
   "metadata": {},
   "outputs": [
    {
     "name": "stdout",
     "output_type": "stream",
     "text": [
      "{'V', 'Mazda', 'e', 'l', 'a', 'Volkswagen', 'r', 'GTI', 'I', 'Velar', 'Mobus', 'Suzuki', 'G', 'Range Rover', 'T'}\n"
     ]
    }
   ],
   "source": [
    "# update(), adds multiple items to a set\n",
    "cars.update([\"Velar\", \"GTI\"])\n",
    "print(cars)"
   ]
  },
  {
   "cell_type": "code",
   "execution_count": 15,
   "metadata": {},
   "outputs": [
    {
     "data": {
      "text/plain": [
       "15"
      ]
     },
     "execution_count": 15,
     "metadata": {},
     "output_type": "execute_result"
    }
   ],
   "source": [
    "len(cars)"
   ]
  },
  {
   "cell_type": "markdown",
   "metadata": {},
   "source": [
    "# Remove Item"
   ]
  },
  {
   "cell_type": "code",
   "execution_count": null,
   "metadata": {},
   "outputs": [],
   "source": []
  }
 ],
 "metadata": {
  "kernelspec": {
   "display_name": "Python 3",
   "language": "python",
   "name": "python3"
  },
  "language_info": {
   "codemirror_mode": {
    "name": "ipython",
    "version": 3
   },
   "file_extension": ".py",
   "mimetype": "text/x-python",
   "name": "python",
   "nbconvert_exporter": "python",
   "pygments_lexer": "ipython3",
   "version": "3.7.4"
  }
 },
 "nbformat": 4,
 "nbformat_minor": 2
}
