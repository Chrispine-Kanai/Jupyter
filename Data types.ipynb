{
 "cells": [
  {
   "cell_type": "markdown",
   "metadata": {},
   "source": [
    "# NUMBERS\n",
    "<p>Integers - A whole number, positive or negative, without decimal point, of any length</p>\n",
    "<p>Float - A positive or negative number, with one or more decimals\n",
    "         - Float can also be scientific numbers with an \"e\" to indicate the power of 10.\n",
    "</p>\n",
    "<p>Complex - Written with a 'j' as an imaginary part</p>\n",
    "<p>Boolean</p>"
   ]
  },
  {
   "cell_type": "code",
   "execution_count": 1,
   "metadata": {},
   "outputs": [
    {
     "name": "stdout",
     "output_type": "stream",
     "text": [
      "<class 'int'>\n",
      "<class 'float'>\n",
      "<class 'complex'>\n",
      "<class 'bool'>\n"
     ]
    }
   ],
   "source": [
    "x = 321\n",
    "y = 321.897\n",
    "z = 35j\n",
    "p = 67 > 56\n",
    "\n",
    "print(type(x))\n",
    "print(type(y))\n",
    "print(type(z))\n",
    "print(type(p))"
   ]
  },
  {
   "cell_type": "code",
   "execution_count": 2,
   "metadata": {},
   "outputs": [
    {
     "name": "stdout",
     "output_type": "stream",
     "text": [
      "670000.0\n",
      "54000000.0\n",
      "-1070000000000.0\n"
     ]
    }
   ],
   "source": [
    "a = 67E4\n",
    "b = 54e6\n",
    "c = -107e10\n",
    "\n",
    "print(a)\n",
    "print(b)\n",
    "print(c)"
   ]
  },
  {
   "cell_type": "code",
   "execution_count": 3,
   "metadata": {},
   "outputs": [
    {
     "data": {
      "text/plain": [
       "741308360"
      ]
     },
     "execution_count": 3,
     "metadata": {},
     "output_type": "execute_result"
    }
   ],
   "source": [
    "d = int(\"0741308360\")\n",
    "d"
   ]
  },
  {
   "cell_type": "markdown",
   "metadata": {},
   "source": [
    "# Strings\n",
    "\n",
    "Strings are immutable\n",
    "\n",
    "## String Methods\n",
    "capitalize() - Converts the first character to upper case<br>\n",
    "casefold() - Converts string into lower case<br>\n",
    "center() - Returns a centered string<br>\n",
    "count() - Returns the number of times a specified value occurs in a string <br>\n",
    "encode() - Returns an encoded version of the string<br>\n",
    "endswith() - Returns true if the string ends with the specified value<br>\n",
    "expandtabs() - Sets the tab size of the string<br>\n",
    "find() - Searches the string for a specified value and returns the position of where it was found<br>\n",
    "format() - Formats specified values in a string<br>\n",
    "format_map() - Formats specified values in a string<br>\n",
    "index() - Searches the string for a specified value and returns the position of where it was found<br>\n",
    "isalnum() - Returns True if all characters in the string are alphanumeric<br>\n",
    "isalpha() - Returns True if all characters in the string are in the alphabet<br>\n",
    "isdecimal() - Returns True if all characters in the string are decimals<br>\n",
    "isdigit() - Returns True if all characters in the string are digits<br>\n",
    "isidentifier() - Returns True if the string is an identifier<br>\n",
    "islower() - Returns True if all characters in the string are lower case<br>\n",
    "isnumeric() - Returns True if all characters in the string are numeric<br>\n",
    "isprintable() - Returns True if all characters in the string are printable<br>\n",
    "isspace() - Returns True if all characters in the string are whitespaces<br>\n",
    "istitle() - Returns True if the string follows the rules of a title<br>\n",
    "isupper() - Returns True if all characters in the string are upper case<br>\n",
    "join() - Joins the elements of an iterable to the end of the string<br>\n",
    "ljust() - Returns a left justified version of the string<br>\n",
    "lower() - Converts a string into lower case<br>\n",
    "lstrip() - Returns a left trim version of the string<br>\n",
    "maketrans() - Returns a translation table to be used in translations<br>\n",
    "partition() - Returns a tuple where the string is parted into three parts<br>\n",
    "replace() - Returns a string where a specified value is replaced with a specified value<br>\n",
    "rfind() - Searches the string for a specified value and returns the last position of where it was found<br>\n",
    "rindex() - Searches the string for a specified value and returns the last position of where it was found<br>\n",
    "rjust() - Returns a right justified version of the string<br>\n",
    "rpartition() - Returns a tuple where the string is parted into three parts<br>\n",
    "rsplit() - Splits the string at the specified separator, and returns a list\n",
    "rstrip() - Returns a right trim version of the string<br>\n",
    "split() - Splits the string at the specified separator, and returns a list<br>\n",
    "splitlines() - Splits the string at line breaks and returns a list<br>\n",
    "startswith() - Returns true if the string starts with the specified value<br>\n",
    "strip() - Returns a trimmed version of the string<br>\n",
    "swapcase() - Swaps cases, lower case becomes upper case and vice versa<br>\n",
    "title() - Converts the first character of each word to upper case<br>\n",
    "translate() - Returns a translated string<br>\n",
    "upper() - Converts a string into upper case<br>\n",
    "zfill() - Fills the string with a specified number of 0 values at the beginning<br>"
   ]
  },
  {
   "cell_type": "code",
   "execution_count": 4,
   "metadata": {},
   "outputs": [
    {
     "data": {
      "text/plain": [
       "9"
      ]
     },
     "execution_count": 4,
     "metadata": {},
     "output_type": "execute_result"
    }
   ],
   "source": [
    "name = \"Chrispine\"\n",
    "\n",
    "len(name)"
   ]
  },
  {
   "cell_type": "code",
   "execution_count": 5,
   "metadata": {},
   "outputs": [
    {
     "data": {
      "text/plain": [
       "'Chrispine'"
      ]
     },
     "execution_count": 5,
     "metadata": {},
     "output_type": "execute_result"
    }
   ],
   "source": [
    "name.capitalize() ## Convert first letter to capital"
   ]
  },
  {
   "cell_type": "code",
   "execution_count": 6,
   "metadata": {},
   "outputs": [
    {
     "name": "stdout",
     "output_type": "stream",
     "text": [
      "Using string.casefold() casefold\n",
      "Using string.casefold() casefold\n"
     ]
    }
   ],
   "source": [
    "string = \"CASEFOLD\"\n",
    "## Convert string to lower case\n",
    "\n",
    "print(\"Using string.casefold()\", string.casefold())\n",
    "print(\"Using string.casefold()\", string.lower())"
   ]
  },
  {
   "cell_type": "code",
   "execution_count": 7,
   "metadata": {},
   "outputs": [
    {
     "data": {
      "text/plain": [
       "'11111111111111111111111111CASEFOLD11111111111111111111111111'"
      ]
     },
     "execution_count": 7,
     "metadata": {},
     "output_type": "execute_result"
    }
   ],
   "source": [
    "## string.center(length, character)\n",
    "## length - (Required) Length of returned string\n",
    "## character - (optional) Optional. The character to fill the missing space on each side. Default is \" \" (space)\n",
    "\n",
    "string.center(60, \"1\")"
   ]
  },
  {
   "cell_type": "code",
   "execution_count": 8,
   "metadata": {},
   "outputs": [
    {
     "name": "stdout",
     "output_type": "stream",
     "text": [
      "2\n",
      "2\n"
     ]
    }
   ],
   "source": [
    "# string.count(value, start(optional), end(optional))\n",
    "# Returns number of times a specified value occurs in a string\n",
    "car = \"My car has car no fuel\"\n",
    "\n",
    "print(car.count(\"car\"))\n",
    "print(car.count(\"car\", 3, 14))"
   ]
  },
  {
   "cell_type": "code",
   "execution_count": 9,
   "metadata": {},
   "outputs": [
    {
     "name": "stdout",
     "output_type": "stream",
     "text": [
      "b'Pyth\\xc2\\xa3n!'\n",
      "b'Pyth\\\\xa3n!'\n",
      "b'Pythn!'\n",
      "b'Pyth\\\\N{POUND SIGN}n!'\n",
      "b'Pyth?n!'\n",
      "b'Pyth&#163;n!'\n"
     ]
    },
    {
     "ename": "UnicodeEncodeError",
     "evalue": "'ascii' codec can't encode character '\\xa3' in position 4: ordinal not in range(128)",
     "output_type": "error",
     "traceback": [
      "\u001b[0;31m---------------------------------------------------------------------------\u001b[0m",
      "\u001b[0;31mUnicodeEncodeError\u001b[0m                        Traceback (most recent call last)",
      "\u001b[0;32m<ipython-input-9-162f6773e32b>\u001b[0m in \u001b[0;36m<module>\u001b[0;34m\u001b[0m\n\u001b[1;32m      7\u001b[0m \u001b[0mprint\u001b[0m\u001b[0;34m(\u001b[0m\u001b[0mencode\u001b[0m\u001b[0;34m.\u001b[0m\u001b[0mencode\u001b[0m\u001b[0;34m(\u001b[0m\u001b[0mencoding\u001b[0m\u001b[0;34m=\u001b[0m\u001b[0;34m\"ascii\"\u001b[0m\u001b[0;34m,\u001b[0m \u001b[0merrors\u001b[0m\u001b[0;34m=\u001b[0m\u001b[0;34m\"replace\"\u001b[0m\u001b[0;34m)\u001b[0m\u001b[0;34m)\u001b[0m\u001b[0;34m\u001b[0m\u001b[0;34m\u001b[0m\u001b[0m\n\u001b[1;32m      8\u001b[0m \u001b[0mprint\u001b[0m\u001b[0;34m(\u001b[0m\u001b[0mencode\u001b[0m\u001b[0;34m.\u001b[0m\u001b[0mencode\u001b[0m\u001b[0;34m(\u001b[0m\u001b[0mencoding\u001b[0m\u001b[0;34m=\u001b[0m\u001b[0;34m\"ascii\"\u001b[0m\u001b[0;34m,\u001b[0m \u001b[0merrors\u001b[0m\u001b[0;34m=\u001b[0m\u001b[0;34m\"xmlcharrefreplace\"\u001b[0m\u001b[0;34m)\u001b[0m\u001b[0;34m)\u001b[0m\u001b[0;34m\u001b[0m\u001b[0;34m\u001b[0m\u001b[0m\n\u001b[0;32m----> 9\u001b[0;31m \u001b[0mprint\u001b[0m\u001b[0;34m(\u001b[0m\u001b[0mencode\u001b[0m\u001b[0;34m.\u001b[0m\u001b[0mencode\u001b[0m\u001b[0;34m(\u001b[0m\u001b[0mencoding\u001b[0m\u001b[0;34m=\u001b[0m\u001b[0;34m\"ascii\"\u001b[0m\u001b[0;34m,\u001b[0m \u001b[0merrors\u001b[0m\u001b[0;34m=\u001b[0m\u001b[0;34m\"strict\"\u001b[0m\u001b[0;34m)\u001b[0m\u001b[0;34m)\u001b[0m\u001b[0;34m\u001b[0m\u001b[0;34m\u001b[0m\u001b[0m\n\u001b[0m",
      "\u001b[0;31mUnicodeEncodeError\u001b[0m: 'ascii' codec can't encode character '\\xa3' in position 4: ordinal not in range(128)"
     ]
    }
   ],
   "source": [
    "# string.encode(encoding=encoding, errors=errors)\n",
    "encode = \"Pyth£n!\"\n",
    "print(encode.encode())\n",
    "print(encode.encode(encoding=\"ascii\", errors=\"backslashreplace\"))\n",
    "print(encode.encode(encoding=\"ascii\", errors=\"ignore\"))\n",
    "print(encode.encode(encoding=\"ascii\", errors=\"namereplace\"))\n",
    "print(encode.encode(encoding=\"ascii\", errors=\"replace\"))\n",
    "print(encode.encode(encoding=\"ascii\", errors=\"xmlcharrefreplace\"))\n",
    "print(encode.encode(encoding=\"ascii\", errors=\"strict\"))"
   ]
  },
  {
   "cell_type": "code",
   "execution_count": 10,
   "metadata": {},
   "outputs": [
    {
     "data": {
      "text/plain": [
       "True"
      ]
     },
     "execution_count": 10,
     "metadata": {},
     "output_type": "execute_result"
    }
   ],
   "source": [
    "# string.endswith(value, start, end)\n",
    "ew = \"Hello, your captain speaking.\"\n",
    "\n",
    "ew.endswith(\".\")"
   ]
  },
  {
   "cell_type": "code",
   "execution_count": 11,
   "metadata": {},
   "outputs": [
    {
     "name": "stdout",
     "output_type": "stream",
     "text": [
      "My name is John, I'am 36\n",
      "My name is John, I'am 36\n",
      "My name is John, I'am 36\n"
     ]
    }
   ],
   "source": [
    "# Format\n",
    "# string.format(value1, value2...)\n",
    "\n",
    "txt1 = \"My name is {fname}, I'am {age}\".format(fname = \"John\", age = 36)\n",
    "txt2 = \"My name is {0}, I'am {1}\".format(\"John\",36)\n",
    "txt3 = \"My name is {}, I'am {}\".format(\"John\",36)\n",
    "print(txt1)\n",
    "print(txt2)\n",
    "print(txt3)"
   ]
  },
  {
   "cell_type": "code",
   "execution_count": null,
   "metadata": {},
   "outputs": [],
   "source": []
  },
  {
   "cell_type": "code",
   "execution_count": null,
   "metadata": {},
   "outputs": [],
   "source": []
  },
  {
   "cell_type": "code",
   "execution_count": null,
   "metadata": {},
   "outputs": [],
   "source": []
  },
  {
   "cell_type": "code",
   "execution_count": null,
   "metadata": {},
   "outputs": [],
   "source": []
  },
  {
   "cell_type": "code",
   "execution_count": null,
   "metadata": {},
   "outputs": [],
   "source": []
  },
  {
   "cell_type": "code",
   "execution_count": null,
   "metadata": {},
   "outputs": [],
   "source": [
    "name[0:]"
   ]
  },
  {
   "cell_type": "code",
   "execution_count": null,
   "metadata": {},
   "outputs": [],
   "source": [
    "name[:-1]"
   ]
  },
  {
   "cell_type": "code",
   "execution_count": null,
   "metadata": {},
   "outputs": [],
   "source": [
    "# name[0:5]\n",
    "name[:8]"
   ]
  },
  {
   "cell_type": "code",
   "execution_count": null,
   "metadata": {},
   "outputs": [],
   "source": [
    "name[0:] = \"K\" #Strings are Immutable"
   ]
  },
  {
   "cell_type": "code",
   "execution_count": null,
   "metadata": {},
   "outputs": [],
   "source": [
    "name.upper()"
   ]
  },
  {
   "cell_type": "markdown",
   "metadata": {},
   "source": [
    "# LIST"
   ]
  },
  {
   "cell_type": "code",
   "execution_count": null,
   "metadata": {},
   "outputs": [],
   "source": [
    "myList = []\n",
    "# listed = list()\n",
    "type(myList)"
   ]
  },
  {
   "cell_type": "code",
   "execution_count": null,
   "metadata": {},
   "outputs": [],
   "source": [
    "myList = [\"Kanai\", 12, \"Tom\", 12, 17j, 17]\n",
    "\n",
    "myList"
   ]
  },
  {
   "cell_type": "code",
   "execution_count": null,
   "metadata": {},
   "outputs": [],
   "source": [
    "myList[2] = \"Kim\"\n",
    "myList"
   ]
  },
  {
   "cell_type": "code",
   "execution_count": null,
   "metadata": {},
   "outputs": [],
   "source": [
    "myList[0:3]"
   ]
  },
  {
   "cell_type": "code",
   "execution_count": null,
   "metadata": {},
   "outputs": [],
   "source": [
    "myList.append(\"Kinoti\")\n",
    "myList"
   ]
  },
  {
   "cell_type": "code",
   "execution_count": null,
   "metadata": {},
   "outputs": [],
   "source": [
    "myList.insert(6, \"Mburu\")\n",
    "myList"
   ]
  },
  {
   "cell_type": "code",
   "execution_count": null,
   "metadata": {},
   "outputs": [],
   "source": [
    "myList.reverse()\n",
    "myList"
   ]
  },
  {
   "cell_type": "code",
   "execution_count": null,
   "metadata": {},
   "outputs": [],
   "source": [
    "myList.pop()"
   ]
  },
  {
   "cell_type": "code",
   "execution_count": null,
   "metadata": {},
   "outputs": [],
   "source": []
  },
  {
   "cell_type": "markdown",
   "metadata": {},
   "source": [
    "# Range"
   ]
  },
  {
   "cell_type": "code",
   "execution_count": 2,
   "metadata": {},
   "outputs": [
    {
     "name": "stdout",
     "output_type": "stream",
     "text": [
      "range(1, 11)\n"
     ]
    }
   ],
   "source": [
    "y = range(1, 11)\n",
    "print(y)"
   ]
  },
  {
   "cell_type": "code",
   "execution_count": 3,
   "metadata": {},
   "outputs": [
    {
     "data": {
      "text/plain": [
       "[0, 1, 2, 3, 4, 5, 6, 7, 8, 9]"
      ]
     },
     "execution_count": 3,
     "metadata": {},
     "output_type": "execute_result"
    }
   ],
   "source": [
    "list(range(10))"
   ]
  },
  {
   "cell_type": "code",
   "execution_count": 5,
   "metadata": {},
   "outputs": [
    {
     "name": "stdout",
     "output_type": "stream",
     "text": [
      "<class 'set'>\n"
     ]
    },
    {
     "data": {
      "text/plain": [
       "tuple"
      ]
     },
     "execution_count": 5,
     "metadata": {},
     "output_type": "execute_result"
    }
   ],
   "source": [
    "a = {1,2,3,4,5}\n",
    "print(type(a))\n",
    "b = (\"a\",\"b\",\"c\",\"d\",\"e\")\n",
    "type(b)"
   ]
  },
  {
   "cell_type": "code",
   "execution_count": 7,
   "metadata": {},
   "outputs": [],
   "source": [
    "c = [a,b]"
   ]
  },
  {
   "cell_type": "code",
   "execution_count": 8,
   "metadata": {},
   "outputs": [
    {
     "name": "stdout",
     "output_type": "stream",
     "text": [
      "[{1, 2, 3, 4, 5}, ('a', 'b', 'c', 'd', 'e')]\n"
     ]
    }
   ],
   "source": [
    "print(c)"
   ]
  },
  {
   "cell_type": "code",
   "execution_count": 9,
   "metadata": {},
   "outputs": [
    {
     "data": {
      "text/plain": [
       "list"
      ]
     },
     "execution_count": 9,
     "metadata": {},
     "output_type": "execute_result"
    }
   ],
   "source": [
    "type(c)"
   ]
  },
  {
   "cell_type": "code",
   "execution_count": 11,
   "metadata": {},
   "outputs": [
    {
     "data": {
      "text/plain": [
       "'Age10'"
      ]
     },
     "execution_count": 11,
     "metadata": {},
     "output_type": "execute_result"
    }
   ],
   "source": [
    "d = 10\n",
    "e = \"Age\"\n",
    "\n",
    "e + str(d)"
   ]
  },
  {
   "cell_type": "code",
   "execution_count": null,
   "metadata": {},
   "outputs": [],
   "source": []
  }
 ],
 "metadata": {
  "kernelspec": {
   "display_name": "Python 3",
   "language": "python",
   "name": "python3"
  },
  "language_info": {
   "codemirror_mode": {
    "name": "ipython",
    "version": 3
   },
   "file_extension": ".py",
   "mimetype": "text/x-python",
   "name": "python",
   "nbconvert_exporter": "python",
   "pygments_lexer": "ipython3",
   "version": "3.7.4"
  }
 },
 "nbformat": 4,
 "nbformat_minor": 2
}
